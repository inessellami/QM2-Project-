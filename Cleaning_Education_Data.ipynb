{
  "nbformat": 4,
  "nbformat_minor": 0,
  "metadata": {
    "colab": {
      "name": "Cleaning Education Data.ipynb",
      "provenance": [],
      "authorship_tag": "ABX9TyMdRKZeSzmLU2B3A5t2hCY9",
      "include_colab_link": true
    },
    "kernelspec": {
      "name": "python3",
      "display_name": "Python 3"
    }
  },
  "cells": [
    {
      "cell_type": "markdown",
      "metadata": {
        "id": "view-in-github",
        "colab_type": "text"
      },
      "source": [
        "<a href=\"https://colab.research.google.com/github/inessellami/QM2-Project-/blob/main/Cleaning_Education_Data.ipynb\" target=\"_parent\"><img src=\"https://colab.research.google.com/assets/colab-badge.svg\" alt=\"Open In Colab\"/></a>"
      ]
    },
    {
      "cell_type": "markdown",
      "metadata": {
        "id": "QNLw1QwmBRj_"
      },
      "source": [
        "Import the raw data in csv form, obtained by copy and pasting the data taken from https://data.ers.usda.gov/reports.aspx?ID=17829&AspxAutoDetectCookieSupport=1#P8af1325ae71d40918a5326c1037788f4_2_200iT2 for not completing high school:"
      ]
    },
    {
      "cell_type": "markdown",
      "metadata": {
        "id": "FOTUaDmZOrWs"
      },
      "source": [
        "Put Uncleaned Education.csv into the colab"
      ]
    },
    {
      "cell_type": "code",
      "metadata": {
        "colab": {
          "resources": {
            "http://localhost:8080/nbextensions/google.colab/files.js": {
              "data": "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",
              "ok": true,
              "headers": [
                [
                  "content-type",
                  "application/javascript"
                ]
              ],
              "status": 200,
              "status_text": ""
            }
          },
          "base_uri": "https://localhost:8080/",
          "height": 72
        },
        "id": "sMm_yvsSBJKZ",
        "outputId": "bbbabc6e-8d53-4c01-d96e-fc35459b6d8d"
      },
      "source": [
        "from google.colab import files\n",
        "uploaded = files.upload()"
      ],
      "execution_count": 63,
      "outputs": [
        {
          "output_type": "display_data",
          "data": {
            "text/html": [
              "\n",
              "     <input type=\"file\" id=\"files-be09d288-89b2-441c-9792-57ba0d9a5dab\" name=\"files[]\" multiple disabled\n",
              "        style=\"border:none\" />\n",
              "     <output id=\"result-be09d288-89b2-441c-9792-57ba0d9a5dab\">\n",
              "      Upload widget is only available when the cell has been executed in the\n",
              "      current browser session. Please rerun this cell to enable.\n",
              "      </output>\n",
              "      <script src=\"/nbextensions/google.colab/files.js\"></script> "
            ],
            "text/plain": [
              "<IPython.core.display.HTML object>"
            ]
          },
          "metadata": {
            "tags": []
          }
        },
        {
          "output_type": "stream",
          "text": [
            "Saving Uncleaned Education.csv to Uncleaned Education (2).csv\n"
          ],
          "name": "stdout"
        }
      ]
    },
    {
      "cell_type": "code",
      "metadata": {
        "id": "5oO0WDjKDe7A"
      },
      "source": [
        "import pandas as pd"
      ],
      "execution_count": 65,
      "outputs": []
    },
    {
      "cell_type": "markdown",
      "metadata": {
        "id": "yv0T6Mi4C6eX"
      },
      "source": [
        "Let's take the head to check it looks right:"
      ]
    },
    {
      "cell_type": "code",
      "metadata": {
        "colab": {
          "base_uri": "https://localhost:8080/",
          "height": 258
        },
        "id": "b0mJ--8fC9j_",
        "outputId": "5ae4e998-b928-4734-bea2-c4e028c82308"
      },
      "source": [
        "Edu = pd.read_csv('Uncleaned Education (1).csv')\n",
        "Edu.head()"
      ],
      "execution_count": 66,
      "outputs": [
        {
          "output_type": "execute_result",
          "data": {
            "text/html": [
              "<div>\n",
              "<style scoped>\n",
              "    .dataframe tbody tr th:only-of-type {\n",
              "        vertical-align: middle;\n",
              "    }\n",
              "\n",
              "    .dataframe tbody tr th {\n",
              "        vertical-align: top;\n",
              "    }\n",
              "\n",
              "    .dataframe thead th {\n",
              "        text-align: right;\n",
              "    }\n",
              "</style>\n",
              "<table border=\"1\" class=\"dataframe\">\n",
              "  <thead>\n",
              "    <tr style=\"text-align: right;\">\n",
              "      <th></th>\n",
              "      <th>Name</th>\n",
              "      <th>Unnamed: 1</th>\n",
              "      <th>1970</th>\n",
              "      <th>Unnamed: 3</th>\n",
              "      <th>1980</th>\n",
              "      <th>Unnamed: 5</th>\n",
              "      <th>1990</th>\n",
              "      <th>Unnamed: 7</th>\n",
              "      <th>2000</th>\n",
              "      <th>Unnamed: 9</th>\n",
              "      <th>2014-2018</th>\n",
              "      <th>Unnamed: 11</th>\n",
              "      <th>1970.1</th>\n",
              "      <th>Unnamed: 13</th>\n",
              "      <th>1980.1</th>\n",
              "      <th>Unnamed: 15</th>\n",
              "      <th>1990.1</th>\n",
              "      <th>Unnamed: 17</th>\n",
              "      <th>2000.1</th>\n",
              "      <th>Unnamed: 19</th>\n",
              "      <th>2014-2018.1</th>\n",
              "      <th>Unnamed: 21</th>\n",
              "      <th>1970.2</th>\n",
              "      <th>Unnamed: 23</th>\n",
              "      <th>1980.2</th>\n",
              "      <th>Unnamed: 25</th>\n",
              "      <th>1990.2</th>\n",
              "      <th>Unnamed: 27</th>\n",
              "      <th>2000.2</th>\n",
              "      <th>Unnamed: 29</th>\n",
              "      <th>2014-2018.2</th>\n",
              "      <th>Unnamed: 31</th>\n",
              "    </tr>\n",
              "  </thead>\n",
              "  <tbody>\n",
              "    <tr>\n",
              "      <th>0</th>\n",
              "      <td>United States</td>\n",
              "      <td>NaN</td>\n",
              "      <td>47.70%</td>\n",
              "      <td>NaN</td>\n",
              "      <td>33.50%</td>\n",
              "      <td>NaN</td>\n",
              "      <td>24.80%</td>\n",
              "      <td>NaN</td>\n",
              "      <td>19.60%</td>\n",
              "      <td>NaN</td>\n",
              "      <td>12.30%</td>\n",
              "      <td>NaN</td>\n",
              "      <td>45.80%</td>\n",
              "      <td>NaN</td>\n",
              "      <td>31.70%</td>\n",
              "      <td>NaN</td>\n",
              "      <td>23.30%</td>\n",
              "      <td>NaN</td>\n",
              "      <td>18.80%</td>\n",
              "      <td>NaN</td>\n",
              "      <td>12.00%</td>\n",
              "      <td>NaN</td>\n",
              "      <td>55.90%</td>\n",
              "      <td>NaN</td>\n",
              "      <td>41.80%</td>\n",
              "      <td>NaN</td>\n",
              "      <td>31.60%</td>\n",
              "      <td>NaN</td>\n",
              "      <td>23.70%</td>\n",
              "      <td>NaN</td>\n",
              "      <td>14.00%</td>\n",
              "      <td>NaN</td>\n",
              "    </tr>\n",
              "    <tr>\n",
              "      <th>1</th>\n",
              "      <td>Alabama</td>\n",
              "      <td>NaN</td>\n",
              "      <td>58.70%</td>\n",
              "      <td>NaN</td>\n",
              "      <td>43.50%</td>\n",
              "      <td>NaN</td>\n",
              "      <td>33.10%</td>\n",
              "      <td>NaN</td>\n",
              "      <td>24.70%</td>\n",
              "      <td>NaN</td>\n",
              "      <td>14.20%</td>\n",
              "      <td>NaN</td>\n",
              "      <td>55.50%</td>\n",
              "      <td>NaN</td>\n",
              "      <td>40.00%</td>\n",
              "      <td>NaN</td>\n",
              "      <td>29.80%</td>\n",
              "      <td>NaN</td>\n",
              "      <td>22.00%</td>\n",
              "      <td>NaN</td>\n",
              "      <td>12.70%</td>\n",
              "      <td>NaN</td>\n",
              "      <td>66.60%</td>\n",
              "      <td>NaN</td>\n",
              "      <td>52.50%</td>\n",
              "      <td>NaN</td>\n",
              "      <td>42.30%</td>\n",
              "      <td>NaN</td>\n",
              "      <td>32.30%</td>\n",
              "      <td>NaN</td>\n",
              "      <td>19.30%</td>\n",
              "      <td>NaN</td>\n",
              "    </tr>\n",
              "    <tr>\n",
              "      <th>2</th>\n",
              "      <td>Alaska</td>\n",
              "      <td>NaN</td>\n",
              "      <td>33.30%</td>\n",
              "      <td>NaN</td>\n",
              "      <td>17.00%</td>\n",
              "      <td>NaN</td>\n",
              "      <td>13.30%</td>\n",
              "      <td>NaN</td>\n",
              "      <td>11.70%</td>\n",
              "      <td>NaN</td>\n",
              "      <td>7.30%</td>\n",
              "      <td>NaN</td>\n",
              "      <td>25.60%</td>\n",
              "      <td>NaN</td>\n",
              "      <td>13.10%</td>\n",
              "      <td>NaN</td>\n",
              "      <td>10.40%</td>\n",
              "      <td>NaN</td>\n",
              "      <td>9.90%</td>\n",
              "      <td>NaN</td>\n",
              "      <td>6.30%</td>\n",
              "      <td>NaN</td>\n",
              "      <td>44.80%</td>\n",
              "      <td>NaN</td>\n",
              "      <td>24.70%</td>\n",
              "      <td>NaN</td>\n",
              "      <td>18.90%</td>\n",
              "      <td>NaN</td>\n",
              "      <td>15.20%</td>\n",
              "      <td>NaN</td>\n",
              "      <td>9.20%</td>\n",
              "      <td>NaN</td>\n",
              "    </tr>\n",
              "    <tr>\n",
              "      <th>3</th>\n",
              "      <td>Arizona</td>\n",
              "      <td>NaN</td>\n",
              "      <td>41.90%</td>\n",
              "      <td>NaN</td>\n",
              "      <td>27.60%</td>\n",
              "      <td>NaN</td>\n",
              "      <td>21.30%</td>\n",
              "      <td>NaN</td>\n",
              "      <td>19.00%</td>\n",
              "      <td>NaN</td>\n",
              "      <td>13.20%</td>\n",
              "      <td>NaN</td>\n",
              "      <td>40.70%</td>\n",
              "      <td>NaN</td>\n",
              "      <td>26.60%</td>\n",
              "      <td>NaN</td>\n",
              "      <td>20.30%</td>\n",
              "      <td>NaN</td>\n",
              "      <td>18.40%</td>\n",
              "      <td>NaN</td>\n",
              "      <td>13.00%</td>\n",
              "      <td>NaN</td>\n",
              "      <td>57.50%</td>\n",
              "      <td>NaN</td>\n",
              "      <td>42.10%</td>\n",
              "      <td>NaN</td>\n",
              "      <td>37.10%</td>\n",
              "      <td>NaN</td>\n",
              "      <td>29.60%</td>\n",
              "      <td>NaN</td>\n",
              "      <td>18.20%</td>\n",
              "      <td>NaN</td>\n",
              "    </tr>\n",
              "    <tr>\n",
              "      <th>4</th>\n",
              "      <td>Arkansas</td>\n",
              "      <td>NaN</td>\n",
              "      <td>60.10%</td>\n",
              "      <td>NaN</td>\n",
              "      <td>44.50%</td>\n",
              "      <td>NaN</td>\n",
              "      <td>33.70%</td>\n",
              "      <td>NaN</td>\n",
              "      <td>24.70%</td>\n",
              "      <td>NaN</td>\n",
              "      <td>13.80%</td>\n",
              "      <td>NaN</td>\n",
              "      <td>53.50%</td>\n",
              "      <td>NaN</td>\n",
              "      <td>38.50%</td>\n",
              "      <td>NaN</td>\n",
              "      <td>28.60%</td>\n",
              "      <td>NaN</td>\n",
              "      <td>21.00%</td>\n",
              "      <td>NaN</td>\n",
              "      <td>12.20%</td>\n",
              "      <td>NaN</td>\n",
              "      <td>66.50%</td>\n",
              "      <td>NaN</td>\n",
              "      <td>50.90%</td>\n",
              "      <td>NaN</td>\n",
              "      <td>39.50%</td>\n",
              "      <td>NaN</td>\n",
              "      <td>29.30%</td>\n",
              "      <td>NaN</td>\n",
              "      <td>16.30%</td>\n",
              "      <td>NaN</td>\n",
              "    </tr>\n",
              "  </tbody>\n",
              "</table>\n",
              "</div>"
            ],
            "text/plain": [
              "            Name  Unnamed: 1    1970  ...  Unnamed: 29 2014-2018.2  Unnamed: 31\n",
              "0  United States         NaN  47.70%  ...          NaN      14.00%          NaN\n",
              "1        Alabama         NaN  58.70%  ...          NaN      19.30%          NaN\n",
              "2         Alaska         NaN  33.30%  ...          NaN       9.20%          NaN\n",
              "3        Arizona         NaN  41.90%  ...          NaN      18.20%          NaN\n",
              "4       Arkansas         NaN  60.10%  ...          NaN      16.30%          NaN\n",
              "\n",
              "[5 rows x 32 columns]"
            ]
          },
          "metadata": {
            "tags": []
          },
          "execution_count": 66
        }
      ]
    },
    {
      "cell_type": "code",
      "metadata": {
        "colab": {
          "base_uri": "https://localhost:8080/",
          "height": 258
        },
        "id": "mRtQs8nREtcL",
        "outputId": "80b6ef1a-82be-4c16-aa82-fd60cac38d5b"
      },
      "source": [
        "Edu.tail()"
      ],
      "execution_count": 67,
      "outputs": [
        {
          "output_type": "execute_result",
          "data": {
            "text/html": [
              "<div>\n",
              "<style scoped>\n",
              "    .dataframe tbody tr th:only-of-type {\n",
              "        vertical-align: middle;\n",
              "    }\n",
              "\n",
              "    .dataframe tbody tr th {\n",
              "        vertical-align: top;\n",
              "    }\n",
              "\n",
              "    .dataframe thead th {\n",
              "        text-align: right;\n",
              "    }\n",
              "</style>\n",
              "<table border=\"1\" class=\"dataframe\">\n",
              "  <thead>\n",
              "    <tr style=\"text-align: right;\">\n",
              "      <th></th>\n",
              "      <th>Name</th>\n",
              "      <th>Unnamed: 1</th>\n",
              "      <th>1970</th>\n",
              "      <th>Unnamed: 3</th>\n",
              "      <th>1980</th>\n",
              "      <th>Unnamed: 5</th>\n",
              "      <th>1990</th>\n",
              "      <th>Unnamed: 7</th>\n",
              "      <th>2000</th>\n",
              "      <th>Unnamed: 9</th>\n",
              "      <th>2014-2018</th>\n",
              "      <th>Unnamed: 11</th>\n",
              "      <th>1970.1</th>\n",
              "      <th>Unnamed: 13</th>\n",
              "      <th>1980.1</th>\n",
              "      <th>Unnamed: 15</th>\n",
              "      <th>1990.1</th>\n",
              "      <th>Unnamed: 17</th>\n",
              "      <th>2000.1</th>\n",
              "      <th>Unnamed: 19</th>\n",
              "      <th>2014-2018.1</th>\n",
              "      <th>Unnamed: 21</th>\n",
              "      <th>1970.2</th>\n",
              "      <th>Unnamed: 23</th>\n",
              "      <th>1980.2</th>\n",
              "      <th>Unnamed: 25</th>\n",
              "      <th>1990.2</th>\n",
              "      <th>Unnamed: 27</th>\n",
              "      <th>2000.2</th>\n",
              "      <th>Unnamed: 29</th>\n",
              "      <th>2014-2018.2</th>\n",
              "      <th>Unnamed: 31</th>\n",
              "    </tr>\n",
              "  </thead>\n",
              "  <tbody>\n",
              "    <tr>\n",
              "      <th>48</th>\n",
              "      <td>Washington</td>\n",
              "      <td>NaN</td>\n",
              "      <td>36.50%</td>\n",
              "      <td>NaN</td>\n",
              "      <td>22.40%</td>\n",
              "      <td>NaN</td>\n",
              "      <td>16.20%</td>\n",
              "      <td>NaN</td>\n",
              "      <td>12.90%</td>\n",
              "      <td>NaN</td>\n",
              "      <td>8.90%</td>\n",
              "      <td>NaN</td>\n",
              "      <td>35.80%</td>\n",
              "      <td>NaN</td>\n",
              "      <td>21.70%</td>\n",
              "      <td>NaN</td>\n",
              "      <td>15.50%</td>\n",
              "      <td>NaN</td>\n",
              "      <td>12.40%</td>\n",
              "      <td>NaN</td>\n",
              "      <td>8.60%</td>\n",
              "      <td>NaN</td>\n",
              "      <td>41.80%</td>\n",
              "      <td>NaN</td>\n",
              "      <td>27.60%</td>\n",
              "      <td>NaN</td>\n",
              "      <td>21.70%</td>\n",
              "      <td>NaN</td>\n",
              "      <td>16.80%</td>\n",
              "      <td>NaN</td>\n",
              "      <td>11.50%</td>\n",
              "      <td>NaN</td>\n",
              "    </tr>\n",
              "    <tr>\n",
              "      <th>49</th>\n",
              "      <td>West Virginia</td>\n",
              "      <td>NaN</td>\n",
              "      <td>58.40%</td>\n",
              "      <td>NaN</td>\n",
              "      <td>44.00%</td>\n",
              "      <td>NaN</td>\n",
              "      <td>34.00%</td>\n",
              "      <td>NaN</td>\n",
              "      <td>24.80%</td>\n",
              "      <td>NaN</td>\n",
              "      <td>13.50%</td>\n",
              "      <td>NaN</td>\n",
              "      <td>55.20%</td>\n",
              "      <td>NaN</td>\n",
              "      <td>40.60%</td>\n",
              "      <td>NaN</td>\n",
              "      <td>30.90%</td>\n",
              "      <td>NaN</td>\n",
              "      <td>22.20%</td>\n",
              "      <td>NaN</td>\n",
              "      <td>12.00%</td>\n",
              "      <td>NaN</td>\n",
              "      <td>62.80%</td>\n",
              "      <td>NaN</td>\n",
              "      <td>48.70%</td>\n",
              "      <td>NaN</td>\n",
              "      <td>38.50%</td>\n",
              "      <td>NaN</td>\n",
              "      <td>28.70%</td>\n",
              "      <td>NaN</td>\n",
              "      <td>15.90%</td>\n",
              "      <td>NaN</td>\n",
              "    </tr>\n",
              "    <tr>\n",
              "      <th>50</th>\n",
              "      <td>Wisconsin</td>\n",
              "      <td>NaN</td>\n",
              "      <td>45.50%</td>\n",
              "      <td>NaN</td>\n",
              "      <td>30.40%</td>\n",
              "      <td>NaN</td>\n",
              "      <td>21.40%</td>\n",
              "      <td>NaN</td>\n",
              "      <td>14.90%</td>\n",
              "      <td>NaN</td>\n",
              "      <td>8.10%</td>\n",
              "      <td>NaN</td>\n",
              "      <td>43.20%</td>\n",
              "      <td>NaN</td>\n",
              "      <td>28.30%</td>\n",
              "      <td>NaN</td>\n",
              "      <td>19.80%</td>\n",
              "      <td>NaN</td>\n",
              "      <td>14.10%</td>\n",
              "      <td>NaN</td>\n",
              "      <td>7.70%</td>\n",
              "      <td>NaN</td>\n",
              "      <td>51.70%</td>\n",
              "      <td>NaN</td>\n",
              "      <td>35.80%</td>\n",
              "      <td>NaN</td>\n",
              "      <td>25.60%</td>\n",
              "      <td>NaN</td>\n",
              "      <td>17.10%</td>\n",
              "      <td>NaN</td>\n",
              "      <td>9.00%</td>\n",
              "      <td>NaN</td>\n",
              "    </tr>\n",
              "    <tr>\n",
              "      <th>51</th>\n",
              "      <td>Wyoming</td>\n",
              "      <td>NaN</td>\n",
              "      <td>37.10%</td>\n",
              "      <td>NaN</td>\n",
              "      <td>22.10%</td>\n",
              "      <td>NaN</td>\n",
              "      <td>17.00%</td>\n",
              "      <td>NaN</td>\n",
              "      <td>12.10%</td>\n",
              "      <td>NaN</td>\n",
              "      <td>7.10%</td>\n",
              "      <td>NaN</td>\n",
              "      <td>32.70%</td>\n",
              "      <td>NaN</td>\n",
              "      <td>18.70%</td>\n",
              "      <td>NaN</td>\n",
              "      <td>15.30%</td>\n",
              "      <td>NaN</td>\n",
              "      <td>11.30%</td>\n",
              "      <td>NaN</td>\n",
              "      <td>7.20%</td>\n",
              "      <td>NaN</td>\n",
              "      <td>39.20%</td>\n",
              "      <td>NaN</td>\n",
              "      <td>23.60%</td>\n",
              "      <td>NaN</td>\n",
              "      <td>17.70%</td>\n",
              "      <td>NaN</td>\n",
              "      <td>12.50%</td>\n",
              "      <td>NaN</td>\n",
              "      <td>7.10%</td>\n",
              "      <td>NaN</td>\n",
              "    </tr>\n",
              "    <tr>\n",
              "      <th>52</th>\n",
              "      <td>Puerto Rico</td>\n",
              "      <td>NaN</td>\n",
              "      <td>NaN</td>\n",
              "      <td>NaN</td>\n",
              "      <td>NaN</td>\n",
              "      <td>NaN</td>\n",
              "      <td>NaN</td>\n",
              "      <td>NaN</td>\n",
              "      <td>40.00%</td>\n",
              "      <td>NaN</td>\n",
              "      <td>24.50%</td>\n",
              "      <td>NaN</td>\n",
              "      <td>NaN</td>\n",
              "      <td>NaN</td>\n",
              "      <td>NaN</td>\n",
              "      <td>NaN</td>\n",
              "      <td>NaN</td>\n",
              "      <td>NaN</td>\n",
              "      <td>39.80%</td>\n",
              "      <td>NaN</td>\n",
              "      <td>24.30%</td>\n",
              "      <td>NaN</td>\n",
              "      <td>NaN</td>\n",
              "      <td>NaN</td>\n",
              "      <td>NaN</td>\n",
              "      <td>NaN</td>\n",
              "      <td>NaN</td>\n",
              "      <td>NaN</td>\n",
              "      <td>46.80%</td>\n",
              "      <td>NaN</td>\n",
              "      <td>27.70%</td>\n",
              "      <td>NaN</td>\n",
              "    </tr>\n",
              "  </tbody>\n",
              "</table>\n",
              "</div>"
            ],
            "text/plain": [
              "             Name  Unnamed: 1    1970  ...  Unnamed: 29 2014-2018.2  Unnamed: 31\n",
              "48     Washington         NaN  36.50%  ...          NaN      11.50%          NaN\n",
              "49  West Virginia         NaN  58.40%  ...          NaN      15.90%          NaN\n",
              "50      Wisconsin         NaN  45.50%  ...          NaN       9.00%          NaN\n",
              "51        Wyoming         NaN  37.10%  ...          NaN       7.10%          NaN\n",
              "52    Puerto Rico         NaN     NaN  ...          NaN      27.70%          NaN\n",
              "\n",
              "[5 rows x 32 columns]"
            ]
          },
          "metadata": {
            "tags": []
          },
          "execution_count": 67
        }
      ]
    },
    {
      "cell_type": "markdown",
      "metadata": {
        "id": "zogAwne2EQbw"
      },
      "source": [
        "Let's see how many Columns we have so we know which to get rid of:"
      ]
    },
    {
      "cell_type": "code",
      "metadata": {
        "colab": {
          "base_uri": "https://localhost:8080/"
        },
        "id": "UmZ1hfn0EVfk",
        "outputId": "8b297612-1d8f-4eb5-be9a-e15b53c1e26e"
      },
      "source": [
        "Edu.columns"
      ],
      "execution_count": 68,
      "outputs": [
        {
          "output_type": "execute_result",
          "data": {
            "text/plain": [
              "Index(['Name', 'Unnamed: 1', '1970', 'Unnamed: 3', '1980', 'Unnamed: 5',\n",
              "       '1990', 'Unnamed: 7', '2000', 'Unnamed: 9', '2014-2018', 'Unnamed: 11',\n",
              "       '1970.1', 'Unnamed: 13', '1980.1', 'Unnamed: 15', '1990.1',\n",
              "       'Unnamed: 17', '2000.1', 'Unnamed: 19', '2014-2018.1', 'Unnamed: 21',\n",
              "       '1970.2', 'Unnamed: 23', '1980.2', 'Unnamed: 25', '1990.2',\n",
              "       'Unnamed: 27', '2000.2', 'Unnamed: 29', '2014-2018.2', 'Unnamed: 31'],\n",
              "      dtype='object')"
            ]
          },
          "metadata": {
            "tags": []
          },
          "execution_count": 68
        }
      ]
    },
    {
      "cell_type": "markdown",
      "metadata": {
        "id": "LFrEhixmEfOm"
      },
      "source": [
        "We must get rid of \"Unnamed: 1,3,5,7,9,11 and 12\" and rename \"Unnamed: 0\" to State. \n",
        "\n",
        "We also must delete row 0 as the US is not a state and row 52 as Puerto Rico is not included in other data sets we are using.\n",
        "\n",
        "We must also delete all columns for 1970, 1980, 1990, 2000 and 2014-2018.1, 2014-2018.2 as we are only interested in the 2014/2018 values for the whole state."
      ]
    },
    {
      "cell_type": "code",
      "metadata": {
        "colab": {
          "base_uri": "https://localhost:8080/",
          "height": 258
        },
        "id": "xtDqRw-hE_KX",
        "outputId": "35726732-b490-46e6-af2a-7973615acf19"
      },
      "source": [
        "Clean1 = Edu.drop('1970', axis=1)\n",
        "Clean2 = Clean1.drop('1980', axis=1)\n",
        "Clean3 = Clean2.drop('1990', axis=1)\n",
        "Clean4 = Clean3.drop('2000', axis=1)\n",
        "Clean5 = Clean4.drop('2000.1', axis=1)\n",
        "Clean6 = Clean5.drop('2000.2', axis=1)\n",
        "Clean7 = Clean6.drop('1990.1', axis=1)\n",
        "Clean8 = Clean7.drop('1990.2', axis=1)\n",
        "Clean9 = Clean8.drop('1980.1', axis=1)\n",
        "Clean10 = Clean9.drop('1980.2', axis=1)\n",
        "Clean11 = Clean10.drop('1970.1', axis=1)\n",
        "Clean12 = Clean11.drop('1970.2', axis=1)\n",
        "Clean13 = Clean12.drop('2014-2018.1', axis=1)\n",
        "Clean14 = Clean13.drop('2014-2018.2', axis=1)\n",
        "\n",
        "Clean14.head()\n"
      ],
      "execution_count": 69,
      "outputs": [
        {
          "output_type": "execute_result",
          "data": {
            "text/html": [
              "<div>\n",
              "<style scoped>\n",
              "    .dataframe tbody tr th:only-of-type {\n",
              "        vertical-align: middle;\n",
              "    }\n",
              "\n",
              "    .dataframe tbody tr th {\n",
              "        vertical-align: top;\n",
              "    }\n",
              "\n",
              "    .dataframe thead th {\n",
              "        text-align: right;\n",
              "    }\n",
              "</style>\n",
              "<table border=\"1\" class=\"dataframe\">\n",
              "  <thead>\n",
              "    <tr style=\"text-align: right;\">\n",
              "      <th></th>\n",
              "      <th>Name</th>\n",
              "      <th>Unnamed: 1</th>\n",
              "      <th>Unnamed: 3</th>\n",
              "      <th>Unnamed: 5</th>\n",
              "      <th>Unnamed: 7</th>\n",
              "      <th>Unnamed: 9</th>\n",
              "      <th>2014-2018</th>\n",
              "      <th>Unnamed: 11</th>\n",
              "      <th>Unnamed: 13</th>\n",
              "      <th>Unnamed: 15</th>\n",
              "      <th>Unnamed: 17</th>\n",
              "      <th>Unnamed: 19</th>\n",
              "      <th>Unnamed: 21</th>\n",
              "      <th>Unnamed: 23</th>\n",
              "      <th>Unnamed: 25</th>\n",
              "      <th>Unnamed: 27</th>\n",
              "      <th>Unnamed: 29</th>\n",
              "      <th>Unnamed: 31</th>\n",
              "    </tr>\n",
              "  </thead>\n",
              "  <tbody>\n",
              "    <tr>\n",
              "      <th>0</th>\n",
              "      <td>United States</td>\n",
              "      <td>NaN</td>\n",
              "      <td>NaN</td>\n",
              "      <td>NaN</td>\n",
              "      <td>NaN</td>\n",
              "      <td>NaN</td>\n",
              "      <td>12.30%</td>\n",
              "      <td>NaN</td>\n",
              "      <td>NaN</td>\n",
              "      <td>NaN</td>\n",
              "      <td>NaN</td>\n",
              "      <td>NaN</td>\n",
              "      <td>NaN</td>\n",
              "      <td>NaN</td>\n",
              "      <td>NaN</td>\n",
              "      <td>NaN</td>\n",
              "      <td>NaN</td>\n",
              "      <td>NaN</td>\n",
              "    </tr>\n",
              "    <tr>\n",
              "      <th>1</th>\n",
              "      <td>Alabama</td>\n",
              "      <td>NaN</td>\n",
              "      <td>NaN</td>\n",
              "      <td>NaN</td>\n",
              "      <td>NaN</td>\n",
              "      <td>NaN</td>\n",
              "      <td>14.20%</td>\n",
              "      <td>NaN</td>\n",
              "      <td>NaN</td>\n",
              "      <td>NaN</td>\n",
              "      <td>NaN</td>\n",
              "      <td>NaN</td>\n",
              "      <td>NaN</td>\n",
              "      <td>NaN</td>\n",
              "      <td>NaN</td>\n",
              "      <td>NaN</td>\n",
              "      <td>NaN</td>\n",
              "      <td>NaN</td>\n",
              "    </tr>\n",
              "    <tr>\n",
              "      <th>2</th>\n",
              "      <td>Alaska</td>\n",
              "      <td>NaN</td>\n",
              "      <td>NaN</td>\n",
              "      <td>NaN</td>\n",
              "      <td>NaN</td>\n",
              "      <td>NaN</td>\n",
              "      <td>7.30%</td>\n",
              "      <td>NaN</td>\n",
              "      <td>NaN</td>\n",
              "      <td>NaN</td>\n",
              "      <td>NaN</td>\n",
              "      <td>NaN</td>\n",
              "      <td>NaN</td>\n",
              "      <td>NaN</td>\n",
              "      <td>NaN</td>\n",
              "      <td>NaN</td>\n",
              "      <td>NaN</td>\n",
              "      <td>NaN</td>\n",
              "    </tr>\n",
              "    <tr>\n",
              "      <th>3</th>\n",
              "      <td>Arizona</td>\n",
              "      <td>NaN</td>\n",
              "      <td>NaN</td>\n",
              "      <td>NaN</td>\n",
              "      <td>NaN</td>\n",
              "      <td>NaN</td>\n",
              "      <td>13.20%</td>\n",
              "      <td>NaN</td>\n",
              "      <td>NaN</td>\n",
              "      <td>NaN</td>\n",
              "      <td>NaN</td>\n",
              "      <td>NaN</td>\n",
              "      <td>NaN</td>\n",
              "      <td>NaN</td>\n",
              "      <td>NaN</td>\n",
              "      <td>NaN</td>\n",
              "      <td>NaN</td>\n",
              "      <td>NaN</td>\n",
              "    </tr>\n",
              "    <tr>\n",
              "      <th>4</th>\n",
              "      <td>Arkansas</td>\n",
              "      <td>NaN</td>\n",
              "      <td>NaN</td>\n",
              "      <td>NaN</td>\n",
              "      <td>NaN</td>\n",
              "      <td>NaN</td>\n",
              "      <td>13.80%</td>\n",
              "      <td>NaN</td>\n",
              "      <td>NaN</td>\n",
              "      <td>NaN</td>\n",
              "      <td>NaN</td>\n",
              "      <td>NaN</td>\n",
              "      <td>NaN</td>\n",
              "      <td>NaN</td>\n",
              "      <td>NaN</td>\n",
              "      <td>NaN</td>\n",
              "      <td>NaN</td>\n",
              "      <td>NaN</td>\n",
              "    </tr>\n",
              "  </tbody>\n",
              "</table>\n",
              "</div>"
            ],
            "text/plain": [
              "            Name  Unnamed: 1  Unnamed: 3  ...  Unnamed: 27  Unnamed: 29  Unnamed: 31\n",
              "0  United States         NaN         NaN  ...          NaN          NaN          NaN\n",
              "1        Alabama         NaN         NaN  ...          NaN          NaN          NaN\n",
              "2         Alaska         NaN         NaN  ...          NaN          NaN          NaN\n",
              "3        Arizona         NaN         NaN  ...          NaN          NaN          NaN\n",
              "4       Arkansas         NaN         NaN  ...          NaN          NaN          NaN\n",
              "\n",
              "[5 rows x 18 columns]"
            ]
          },
          "metadata": {
            "tags": []
          },
          "execution_count": 69
        }
      ]
    },
    {
      "cell_type": "markdown",
      "metadata": {
        "id": "I8Y1aWHRNj2W"
      },
      "source": [
        "Let's now rename the first column to 'States' so we can remove all unnamed columns after:"
      ]
    },
    {
      "cell_type": "code",
      "metadata": {
        "colab": {
          "base_uri": "https://localhost:8080/",
          "height": 258
        },
        "id": "aQ6DJMmCNslu",
        "outputId": "7f5ccf06-d17c-43fe-e22f-d6330a9b2e9a"
      },
      "source": [
        "Clean14.rename( columns={'Name':'States'}, inplace=True )\n",
        "Clean14.head()\n"
      ],
      "execution_count": 70,
      "outputs": [
        {
          "output_type": "execute_result",
          "data": {
            "text/html": [
              "<div>\n",
              "<style scoped>\n",
              "    .dataframe tbody tr th:only-of-type {\n",
              "        vertical-align: middle;\n",
              "    }\n",
              "\n",
              "    .dataframe tbody tr th {\n",
              "        vertical-align: top;\n",
              "    }\n",
              "\n",
              "    .dataframe thead th {\n",
              "        text-align: right;\n",
              "    }\n",
              "</style>\n",
              "<table border=\"1\" class=\"dataframe\">\n",
              "  <thead>\n",
              "    <tr style=\"text-align: right;\">\n",
              "      <th></th>\n",
              "      <th>States</th>\n",
              "      <th>Unnamed: 1</th>\n",
              "      <th>Unnamed: 3</th>\n",
              "      <th>Unnamed: 5</th>\n",
              "      <th>Unnamed: 7</th>\n",
              "      <th>Unnamed: 9</th>\n",
              "      <th>2014-2018</th>\n",
              "      <th>Unnamed: 11</th>\n",
              "      <th>Unnamed: 13</th>\n",
              "      <th>Unnamed: 15</th>\n",
              "      <th>Unnamed: 17</th>\n",
              "      <th>Unnamed: 19</th>\n",
              "      <th>Unnamed: 21</th>\n",
              "      <th>Unnamed: 23</th>\n",
              "      <th>Unnamed: 25</th>\n",
              "      <th>Unnamed: 27</th>\n",
              "      <th>Unnamed: 29</th>\n",
              "      <th>Unnamed: 31</th>\n",
              "    </tr>\n",
              "  </thead>\n",
              "  <tbody>\n",
              "    <tr>\n",
              "      <th>0</th>\n",
              "      <td>United States</td>\n",
              "      <td>NaN</td>\n",
              "      <td>NaN</td>\n",
              "      <td>NaN</td>\n",
              "      <td>NaN</td>\n",
              "      <td>NaN</td>\n",
              "      <td>12.30%</td>\n",
              "      <td>NaN</td>\n",
              "      <td>NaN</td>\n",
              "      <td>NaN</td>\n",
              "      <td>NaN</td>\n",
              "      <td>NaN</td>\n",
              "      <td>NaN</td>\n",
              "      <td>NaN</td>\n",
              "      <td>NaN</td>\n",
              "      <td>NaN</td>\n",
              "      <td>NaN</td>\n",
              "      <td>NaN</td>\n",
              "    </tr>\n",
              "    <tr>\n",
              "      <th>1</th>\n",
              "      <td>Alabama</td>\n",
              "      <td>NaN</td>\n",
              "      <td>NaN</td>\n",
              "      <td>NaN</td>\n",
              "      <td>NaN</td>\n",
              "      <td>NaN</td>\n",
              "      <td>14.20%</td>\n",
              "      <td>NaN</td>\n",
              "      <td>NaN</td>\n",
              "      <td>NaN</td>\n",
              "      <td>NaN</td>\n",
              "      <td>NaN</td>\n",
              "      <td>NaN</td>\n",
              "      <td>NaN</td>\n",
              "      <td>NaN</td>\n",
              "      <td>NaN</td>\n",
              "      <td>NaN</td>\n",
              "      <td>NaN</td>\n",
              "    </tr>\n",
              "    <tr>\n",
              "      <th>2</th>\n",
              "      <td>Alaska</td>\n",
              "      <td>NaN</td>\n",
              "      <td>NaN</td>\n",
              "      <td>NaN</td>\n",
              "      <td>NaN</td>\n",
              "      <td>NaN</td>\n",
              "      <td>7.30%</td>\n",
              "      <td>NaN</td>\n",
              "      <td>NaN</td>\n",
              "      <td>NaN</td>\n",
              "      <td>NaN</td>\n",
              "      <td>NaN</td>\n",
              "      <td>NaN</td>\n",
              "      <td>NaN</td>\n",
              "      <td>NaN</td>\n",
              "      <td>NaN</td>\n",
              "      <td>NaN</td>\n",
              "      <td>NaN</td>\n",
              "    </tr>\n",
              "    <tr>\n",
              "      <th>3</th>\n",
              "      <td>Arizona</td>\n",
              "      <td>NaN</td>\n",
              "      <td>NaN</td>\n",
              "      <td>NaN</td>\n",
              "      <td>NaN</td>\n",
              "      <td>NaN</td>\n",
              "      <td>13.20%</td>\n",
              "      <td>NaN</td>\n",
              "      <td>NaN</td>\n",
              "      <td>NaN</td>\n",
              "      <td>NaN</td>\n",
              "      <td>NaN</td>\n",
              "      <td>NaN</td>\n",
              "      <td>NaN</td>\n",
              "      <td>NaN</td>\n",
              "      <td>NaN</td>\n",
              "      <td>NaN</td>\n",
              "      <td>NaN</td>\n",
              "    </tr>\n",
              "    <tr>\n",
              "      <th>4</th>\n",
              "      <td>Arkansas</td>\n",
              "      <td>NaN</td>\n",
              "      <td>NaN</td>\n",
              "      <td>NaN</td>\n",
              "      <td>NaN</td>\n",
              "      <td>NaN</td>\n",
              "      <td>13.80%</td>\n",
              "      <td>NaN</td>\n",
              "      <td>NaN</td>\n",
              "      <td>NaN</td>\n",
              "      <td>NaN</td>\n",
              "      <td>NaN</td>\n",
              "      <td>NaN</td>\n",
              "      <td>NaN</td>\n",
              "      <td>NaN</td>\n",
              "      <td>NaN</td>\n",
              "      <td>NaN</td>\n",
              "      <td>NaN</td>\n",
              "    </tr>\n",
              "  </tbody>\n",
              "</table>\n",
              "</div>"
            ],
            "text/plain": [
              "          States  Unnamed: 1  Unnamed: 3  ...  Unnamed: 27  Unnamed: 29  Unnamed: 31\n",
              "0  United States         NaN         NaN  ...          NaN          NaN          NaN\n",
              "1        Alabama         NaN         NaN  ...          NaN          NaN          NaN\n",
              "2         Alaska         NaN         NaN  ...          NaN          NaN          NaN\n",
              "3        Arizona         NaN         NaN  ...          NaN          NaN          NaN\n",
              "4       Arkansas         NaN         NaN  ...          NaN          NaN          NaN\n",
              "\n",
              "[5 rows x 18 columns]"
            ]
          },
          "metadata": {
            "tags": []
          },
          "execution_count": 70
        }
      ]
    },
    {
      "cell_type": "markdown",
      "metadata": {
        "id": "zW_wb7OHNNlj"
      },
      "source": [
        "Now let's remove the Unnamed columns:"
      ]
    },
    {
      "cell_type": "code",
      "metadata": {
        "colab": {
          "base_uri": "https://localhost:8080/",
          "height": 204
        },
        "id": "Fc8nJzsQNRPv",
        "outputId": "8195f1e0-1a91-4985-e88c-bd4b0afebed1"
      },
      "source": [
        "Clean14.drop(Clean14.columns[Clean14.columns.str.contains('Unnamed',case = False)],axis = 1, inplace = True)\n",
        "Clean14.head()\n"
      ],
      "execution_count": 71,
      "outputs": [
        {
          "output_type": "execute_result",
          "data": {
            "text/html": [
              "<div>\n",
              "<style scoped>\n",
              "    .dataframe tbody tr th:only-of-type {\n",
              "        vertical-align: middle;\n",
              "    }\n",
              "\n",
              "    .dataframe tbody tr th {\n",
              "        vertical-align: top;\n",
              "    }\n",
              "\n",
              "    .dataframe thead th {\n",
              "        text-align: right;\n",
              "    }\n",
              "</style>\n",
              "<table border=\"1\" class=\"dataframe\">\n",
              "  <thead>\n",
              "    <tr style=\"text-align: right;\">\n",
              "      <th></th>\n",
              "      <th>States</th>\n",
              "      <th>2014-2018</th>\n",
              "    </tr>\n",
              "  </thead>\n",
              "  <tbody>\n",
              "    <tr>\n",
              "      <th>0</th>\n",
              "      <td>United States</td>\n",
              "      <td>12.30%</td>\n",
              "    </tr>\n",
              "    <tr>\n",
              "      <th>1</th>\n",
              "      <td>Alabama</td>\n",
              "      <td>14.20%</td>\n",
              "    </tr>\n",
              "    <tr>\n",
              "      <th>2</th>\n",
              "      <td>Alaska</td>\n",
              "      <td>7.30%</td>\n",
              "    </tr>\n",
              "    <tr>\n",
              "      <th>3</th>\n",
              "      <td>Arizona</td>\n",
              "      <td>13.20%</td>\n",
              "    </tr>\n",
              "    <tr>\n",
              "      <th>4</th>\n",
              "      <td>Arkansas</td>\n",
              "      <td>13.80%</td>\n",
              "    </tr>\n",
              "  </tbody>\n",
              "</table>\n",
              "</div>"
            ],
            "text/plain": [
              "          States 2014-2018\n",
              "0  United States    12.30%\n",
              "1        Alabama    14.20%\n",
              "2         Alaska     7.30%\n",
              "3        Arizona    13.20%\n",
              "4       Arkansas    13.80%"
            ]
          },
          "metadata": {
            "tags": []
          },
          "execution_count": 71
        }
      ]
    },
    {
      "cell_type": "markdown",
      "metadata": {
        "id": "FAO5MwuzUs0t"
      },
      "source": [
        "Let's remove row 0 and row 52 and check that the values have been removed by looking at the head and tail."
      ]
    },
    {
      "cell_type": "code",
      "metadata": {
        "colab": {
          "base_uri": "https://localhost:8080/",
          "height": 204
        },
        "id": "7h0e0PSNUx3w",
        "outputId": "888866c1-3d17-456a-ed92-00f96c4837ce"
      },
      "source": [
        "Clean15 = Clean14.drop(Clean14.index[0])\n",
        "Clean16 = Clean15.drop(Clean15.index[51])\n",
        "Clean16.head()\n",
        "\n"
      ],
      "execution_count": 72,
      "outputs": [
        {
          "output_type": "execute_result",
          "data": {
            "text/html": [
              "<div>\n",
              "<style scoped>\n",
              "    .dataframe tbody tr th:only-of-type {\n",
              "        vertical-align: middle;\n",
              "    }\n",
              "\n",
              "    .dataframe tbody tr th {\n",
              "        vertical-align: top;\n",
              "    }\n",
              "\n",
              "    .dataframe thead th {\n",
              "        text-align: right;\n",
              "    }\n",
              "</style>\n",
              "<table border=\"1\" class=\"dataframe\">\n",
              "  <thead>\n",
              "    <tr style=\"text-align: right;\">\n",
              "      <th></th>\n",
              "      <th>States</th>\n",
              "      <th>2014-2018</th>\n",
              "    </tr>\n",
              "  </thead>\n",
              "  <tbody>\n",
              "    <tr>\n",
              "      <th>1</th>\n",
              "      <td>Alabama</td>\n",
              "      <td>14.20%</td>\n",
              "    </tr>\n",
              "    <tr>\n",
              "      <th>2</th>\n",
              "      <td>Alaska</td>\n",
              "      <td>7.30%</td>\n",
              "    </tr>\n",
              "    <tr>\n",
              "      <th>3</th>\n",
              "      <td>Arizona</td>\n",
              "      <td>13.20%</td>\n",
              "    </tr>\n",
              "    <tr>\n",
              "      <th>4</th>\n",
              "      <td>Arkansas</td>\n",
              "      <td>13.80%</td>\n",
              "    </tr>\n",
              "    <tr>\n",
              "      <th>5</th>\n",
              "      <td>California</td>\n",
              "      <td>17.10%</td>\n",
              "    </tr>\n",
              "  </tbody>\n",
              "</table>\n",
              "</div>"
            ],
            "text/plain": [
              "       States 2014-2018\n",
              "1     Alabama    14.20%\n",
              "2      Alaska     7.30%\n",
              "3     Arizona    13.20%\n",
              "4    Arkansas    13.80%\n",
              "5  California    17.10%"
            ]
          },
          "metadata": {
            "tags": []
          },
          "execution_count": 72
        }
      ]
    },
    {
      "cell_type": "code",
      "metadata": {
        "colab": {
          "base_uri": "https://localhost:8080/",
          "height": 204
        },
        "id": "dWrxFkudWCp1",
        "outputId": "f0667ffc-641a-435b-cd7e-db5231558451"
      },
      "source": [
        "Clean16.tail()"
      ],
      "execution_count": 73,
      "outputs": [
        {
          "output_type": "execute_result",
          "data": {
            "text/html": [
              "<div>\n",
              "<style scoped>\n",
              "    .dataframe tbody tr th:only-of-type {\n",
              "        vertical-align: middle;\n",
              "    }\n",
              "\n",
              "    .dataframe tbody tr th {\n",
              "        vertical-align: top;\n",
              "    }\n",
              "\n",
              "    .dataframe thead th {\n",
              "        text-align: right;\n",
              "    }\n",
              "</style>\n",
              "<table border=\"1\" class=\"dataframe\">\n",
              "  <thead>\n",
              "    <tr style=\"text-align: right;\">\n",
              "      <th></th>\n",
              "      <th>States</th>\n",
              "      <th>2014-2018</th>\n",
              "    </tr>\n",
              "  </thead>\n",
              "  <tbody>\n",
              "    <tr>\n",
              "      <th>47</th>\n",
              "      <td>Virginia</td>\n",
              "      <td>10.70%</td>\n",
              "    </tr>\n",
              "    <tr>\n",
              "      <th>48</th>\n",
              "      <td>Washington</td>\n",
              "      <td>8.90%</td>\n",
              "    </tr>\n",
              "    <tr>\n",
              "      <th>49</th>\n",
              "      <td>West Virginia</td>\n",
              "      <td>13.50%</td>\n",
              "    </tr>\n",
              "    <tr>\n",
              "      <th>50</th>\n",
              "      <td>Wisconsin</td>\n",
              "      <td>8.10%</td>\n",
              "    </tr>\n",
              "    <tr>\n",
              "      <th>51</th>\n",
              "      <td>Wyoming</td>\n",
              "      <td>7.10%</td>\n",
              "    </tr>\n",
              "  </tbody>\n",
              "</table>\n",
              "</div>"
            ],
            "text/plain": [
              "           States 2014-2018\n",
              "47       Virginia    10.70%\n",
              "48     Washington     8.90%\n",
              "49  West Virginia    13.50%\n",
              "50      Wisconsin     8.10%\n",
              "51        Wyoming     7.10%"
            ]
          },
          "metadata": {
            "tags": []
          },
          "execution_count": 73
        }
      ]
    },
    {
      "cell_type": "markdown",
      "metadata": {
        "id": "xqZf_MbLcTQI"
      },
      "source": [
        "Let's turn the percentages into numbers so they can be used for graph plotting:"
      ]
    },
    {
      "cell_type": "code",
      "metadata": {
        "colab": {
          "base_uri": "https://localhost:8080/"
        },
        "id": "GcKzEK5Sghsb",
        "outputId": "5ed75280-7ec8-4111-8345-6630dd0970cf"
      },
      "source": [
        "Clean16['2014-2018'] = Clean16['2014-2018'].str.replace('%', '')\n",
        "print(Clean16)"
      ],
      "execution_count": 112,
      "outputs": [
        {
          "output_type": "stream",
          "text": [
            "                  States 2014-2018\n",
            "1                Alabama     14.20\n",
            "2                 Alaska      7.30\n",
            "3                Arizona     13.20\n",
            "4               Arkansas     13.80\n",
            "5             California     17.10\n",
            "6               Colorado      8.60\n",
            "7            Connecticut      9.50\n",
            "8               Delaware     10.20\n",
            "9   District of Columbia      9.40\n",
            "10               Florida     12.00\n",
            "11               Georgia     13.30\n",
            "12                Hawaii      8.20\n",
            "13                 Idaho      9.40\n",
            "14              Illinois     11.10\n",
            "15               Indiana     11.40\n",
            "16                  Iowa      8.00\n",
            "17                Kansas      9.30\n",
            "18              Kentucky     14.30\n",
            "19             Louisiana     15.20\n",
            "20                 Maine      7.70\n",
            "21              Maryland     10.00\n",
            "22         Massachusetts      9.60\n",
            "23              Michigan      9.50\n",
            "24             Minnesota      7.00\n",
            "25           Mississippi     16.10\n",
            "26              Missouri     10.40\n",
            "27               Montana      6.80\n",
            "28              Nebraska      8.90\n",
            "29                Nevada     13.70\n",
            "30         New Hampshire      7.10\n",
            "31            New Jersey     10.50\n",
            "32            New Mexico     14.70\n",
            "33              New York     13.50\n",
            "34        North Carolina     12.60\n",
            "35          North Dakota      7.50\n",
            "36                  Ohio      9.90\n",
            "37              Oklahoma     12.20\n",
            "38                Oregon      9.60\n",
            "39          Pennsylvania      9.80\n",
            "40          Rhode Island     12.00\n",
            "41        South Carolina     12.90\n",
            "42          South Dakota      8.30\n",
            "43             Tennessee     13.00\n",
            "44                 Texas     16.80\n",
            "45                  Utah      8.00\n",
            "46               Vermont      7.40\n",
            "47              Virginia     10.70\n",
            "48            Washington      8.90\n",
            "49         West Virginia     13.50\n",
            "50             Wisconsin      8.10\n",
            "51               Wyoming      7.10\n"
          ],
          "name": "stdout"
        }
      ]
    },
    {
      "cell_type": "markdown",
      "metadata": {
        "id": "qM_91EQ7AV8Q"
      },
      "source": [
        "Let's ensure our values (Clean17) are all floats:"
      ]
    },
    {
      "cell_type": "code",
      "metadata": {
        "id": "HSk5c3fze2f3"
      },
      "source": [
        "Clean16['2014-2018'] = Clean16['2014-2018'].astype(float)"
      ],
      "execution_count": 114,
      "outputs": []
    },
    {
      "cell_type": "markdown",
      "metadata": {
        "id": "_l_X_kkDh04Q"
      },
      "source": [
        "Rename as 'Final and check the data is what we want!"
      ]
    },
    {
      "cell_type": "code",
      "metadata": {
        "colab": {
          "base_uri": "https://localhost:8080/"
        },
        "id": "qIBoYm8dhITf",
        "outputId": "a5aac6ac-e1fc-4c45-97aa-8ba2ec9c9ff9"
      },
      "source": [
        "Final = Clean16\n",
        "Final['2014-2018']"
      ],
      "execution_count": 115,
      "outputs": [
        {
          "output_type": "execute_result",
          "data": {
            "text/plain": [
              "1     14.2\n",
              "2      7.3\n",
              "3     13.2\n",
              "4     13.8\n",
              "5     17.1\n",
              "6      8.6\n",
              "7      9.5\n",
              "8     10.2\n",
              "9      9.4\n",
              "10    12.0\n",
              "11    13.3\n",
              "12     8.2\n",
              "13     9.4\n",
              "14    11.1\n",
              "15    11.4\n",
              "16     8.0\n",
              "17     9.3\n",
              "18    14.3\n",
              "19    15.2\n",
              "20     7.7\n",
              "21    10.0\n",
              "22     9.6\n",
              "23     9.5\n",
              "24     7.0\n",
              "25    16.1\n",
              "26    10.4\n",
              "27     6.8\n",
              "28     8.9\n",
              "29    13.7\n",
              "30     7.1\n",
              "31    10.5\n",
              "32    14.7\n",
              "33    13.5\n",
              "34    12.6\n",
              "35     7.5\n",
              "36     9.9\n",
              "37    12.2\n",
              "38     9.6\n",
              "39     9.8\n",
              "40    12.0\n",
              "41    12.9\n",
              "42     8.3\n",
              "43    13.0\n",
              "44    16.8\n",
              "45     8.0\n",
              "46     7.4\n",
              "47    10.7\n",
              "48     8.9\n",
              "49    13.5\n",
              "50     8.1\n",
              "51     7.1\n",
              "Name: 2014-2018, dtype: float64"
            ]
          },
          "metadata": {
            "tags": []
          },
          "execution_count": 115
        }
      ]
    },
    {
      "cell_type": "code",
      "metadata": {
        "colab": {
          "base_uri": "https://localhost:8080/"
        },
        "id": "YlCww982hwqE",
        "outputId": "22320663-0b35-4b4b-ac39-bf6d71028f09"
      },
      "source": [
        "Final['States']"
      ],
      "execution_count": 116,
      "outputs": [
        {
          "output_type": "execute_result",
          "data": {
            "text/plain": [
              "1                  Alabama\n",
              "2                   Alaska\n",
              "3                  Arizona\n",
              "4                 Arkansas\n",
              "5               California\n",
              "6                 Colorado\n",
              "7              Connecticut\n",
              "8                 Delaware\n",
              "9     District of Columbia\n",
              "10                 Florida\n",
              "11                 Georgia\n",
              "12                  Hawaii\n",
              "13                   Idaho\n",
              "14                Illinois\n",
              "15                 Indiana\n",
              "16                    Iowa\n",
              "17                  Kansas\n",
              "18                Kentucky\n",
              "19               Louisiana\n",
              "20                   Maine\n",
              "21                Maryland\n",
              "22           Massachusetts\n",
              "23                Michigan\n",
              "24               Minnesota\n",
              "25             Mississippi\n",
              "26                Missouri\n",
              "27                 Montana\n",
              "28                Nebraska\n",
              "29                  Nevada\n",
              "30           New Hampshire\n",
              "31              New Jersey\n",
              "32              New Mexico\n",
              "33                New York\n",
              "34          North Carolina\n",
              "35            North Dakota\n",
              "36                    Ohio\n",
              "37                Oklahoma\n",
              "38                  Oregon\n",
              "39            Pennsylvania\n",
              "40            Rhode Island\n",
              "41          South Carolina\n",
              "42            South Dakota\n",
              "43               Tennessee\n",
              "44                   Texas\n",
              "45                    Utah\n",
              "46                 Vermont\n",
              "47                Virginia\n",
              "48              Washington\n",
              "49           West Virginia\n",
              "50               Wisconsin\n",
              "51                 Wyoming\n",
              "Name: States, dtype: object"
            ]
          },
          "metadata": {
            "tags": []
          },
          "execution_count": 116
        }
      ]
    },
    {
      "cell_type": "markdown",
      "metadata": {
        "id": "TyBDTzvbiQxD"
      },
      "source": [
        "This all looks fine so let's export it as a CSV:"
      ]
    },
    {
      "cell_type": "code",
      "metadata": {
        "id": "EqQpxyC8iV2R"
      },
      "source": [
        "Final.to_csv(r'sample_data\\Education.csv', index = False)"
      ],
      "execution_count": 118,
      "outputs": []
    }
  ]
}